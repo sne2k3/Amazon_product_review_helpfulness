{
 "cells": [
  {
   "cell_type": "markdown",
   "id": "02d854c5",
   "metadata": {},
   "source": [
    "### Below code is for Automotive category"
   ]
  },
  {
   "cell_type": "code",
   "execution_count": 2,
   "id": "ad7c9057",
   "metadata": {},
   "outputs": [],
   "source": [
    "import pandas as pd\n",
    "import json"
   ]
  },
  {
   "cell_type": "code",
   "execution_count": 13,
   "id": "a20c2713",
   "metadata": {},
   "outputs": [
    {
     "name": "stdout",
     "output_type": "stream",
     "text": [
      "OK\n"
     ]
    }
   ],
   "source": [
    "# Read JSON file line by line and concatenate into a single string\n",
    "with open('Automotive_5.json', 'r') as file:\n",
    "    json_data = '[' + ','.join([line.strip() for line in file]) + ']'\n",
    "    print(\"OK\")"
   ]
  },
  {
   "cell_type": "code",
   "execution_count": 14,
   "id": "58cafc31",
   "metadata": {},
   "outputs": [],
   "source": [
    "# Parse JSON string into pandas Dataframe\n",
    "df = pd.read_json(json_data)"
   ]
  },
  {
   "cell_type": "code",
   "execution_count": 10,
   "id": "fc963834",
   "metadata": {},
   "outputs": [],
   "source": [
    "# Convert DataFrame to CSV\n",
    "df.to_csv('Automotive_5data.csv', index=False)"
   ]
  },
  {
   "cell_type": "code",
   "execution_count": 11,
   "id": "cf487e44",
   "metadata": {},
   "outputs": [
    {
     "data": {
      "text/plain": [
       "(1711519, 12)"
      ]
     },
     "execution_count": 11,
     "metadata": {},
     "output_type": "execute_result"
    }
   ],
   "source": [
    "df.shape"
   ]
  },
  {
   "cell_type": "markdown",
   "id": "ddabc161",
   "metadata": {},
   "source": [
    "### Below code is for Applicances category"
   ]
  },
  {
   "cell_type": "code",
   "execution_count": 17,
   "id": "da5c589e",
   "metadata": {},
   "outputs": [
    {
     "name": "stdout",
     "output_type": "stream",
     "text": [
      "OK\n"
     ]
    }
   ],
   "source": [
    "# Read JSON file line by line and concatenate into a single string\n",
    "with open('Appliances_5.json', 'r') as file:\n",
    "    applicances_json_data = '[' + ','.join([line.strip() for line in file]) + ']'\n",
    "    print(\"OK\")"
   ]
  },
  {
   "cell_type": "code",
   "execution_count": 18,
   "id": "e430d266",
   "metadata": {},
   "outputs": [],
   "source": [
    "# Parse JSON string into pandas Dataframe\n",
    "df = pd.read_json(applicances_json_data)"
   ]
  },
  {
   "cell_type": "code",
   "execution_count": 19,
   "id": "12e206f0",
   "metadata": {},
   "outputs": [
    {
     "name": "stdout",
     "output_type": "stream",
     "text": [
      "FileDownloded\n"
     ]
    }
   ],
   "source": [
    "# Convert DataFrame to CSV\n",
    "df.to_csv('Appliancesdata.csv', index=False)\n",
    "print(\"FileDownloded\")"
   ]
  },
  {
   "cell_type": "code",
   "execution_count": 20,
   "id": "4862cc08",
   "metadata": {},
   "outputs": [
    {
     "data": {
      "text/plain": [
       "(2277, 12)"
      ]
     },
     "execution_count": 20,
     "metadata": {},
     "output_type": "execute_result"
    }
   ],
   "source": [
    "df.shape"
   ]
  },
  {
   "cell_type": "markdown",
   "id": "99884285",
   "metadata": {},
   "source": [
    "### Below code is for Cellphones and accessories category"
   ]
  },
  {
   "cell_type": "code",
   "execution_count": 3,
   "id": "92cc272c",
   "metadata": {},
   "outputs": [
    {
     "name": "stdout",
     "output_type": "stream",
     "text": [
      "OK\n"
     ]
    }
   ],
   "source": [
    "# Read JSON file line by line and concatenate into a single string\n",
    "with open('Cell_Phones_and_Accessories_5.json', 'r') as file:\n",
    "    cellPhones_and_accessories_json_data = '[' + ','.join([line.strip() for line in file]) + ']'\n",
    "    print(\"OK\")"
   ]
  },
  {
   "cell_type": "code",
   "execution_count": 4,
   "id": "ced94743",
   "metadata": {},
   "outputs": [],
   "source": [
    "# Parse JSON string into pandas Dataframe\n",
    "df = pd.read_json(cellPhones_and_accessories_json_data)"
   ]
  },
  {
   "cell_type": "code",
   "execution_count": 5,
   "id": "7f6e39c7",
   "metadata": {},
   "outputs": [
    {
     "name": "stdout",
     "output_type": "stream",
     "text": [
      "FileDownloded\n"
     ]
    }
   ],
   "source": [
    "# Convert DataFrame to CSV\n",
    "df.to_csv('CellPhones_and_accessories_data.csv', index=False)\n",
    "print(\"FileDownloded\")"
   ]
  },
  {
   "cell_type": "markdown",
   "id": "86e4c1c8",
   "metadata": {},
   "source": [
    "### Below code is for Tools and Home improvement category"
   ]
  },
  {
   "cell_type": "code",
   "execution_count": null,
   "id": "512cdfd6",
   "metadata": {},
   "outputs": [],
   "source": [
    "# Read JSON file line by line and concatenate into a single string\n",
    "with open('Tool_and_Home_Improvement_json_data.json', 'r') as file:\n",
    "    tool_and_Home_Improvement_json_data = '[' + ','.join([line.strip() for line in file]) + ']'\n",
    "    print(\"OK\")"
   ]
  },
  {
   "cell_type": "code",
   "execution_count": null,
   "id": "a17d0271",
   "metadata": {},
   "outputs": [],
   "source": [
    "# Parse JSON string into pandas Dataframe\n",
    "df = pd.read_json(tool_and_Home_Improvement_json_data)"
   ]
  },
  {
   "cell_type": "code",
   "execution_count": null,
   "id": "f3a8b0ad",
   "metadata": {},
   "outputs": [],
   "source": [
    "# Convert DataFrame to CSV\n",
    "df.to_csv('tool_and_Home_Improvement_json_data.csv', index=False)\n",
    "print(\"FileDownloded\")"
   ]
  },
  {
   "cell_type": "markdown",
   "id": "7aae924f",
   "metadata": {},
   "source": [
    "### Below code is for Applicances category (super set data)"
   ]
  },
  {
   "cell_type": "code",
   "execution_count": 8,
   "id": "6144356c",
   "metadata": {},
   "outputs": [
    {
     "name": "stdout",
     "output_type": "stream",
     "text": [
      "OK\n"
     ]
    }
   ],
   "source": [
    "# Read JSON file line by line and concatenate into a single string\n",
    "with open('Appliances.json', 'r') as file:\n",
    "    applicances_json_data = '[' + ','.join([line.strip() for line in file]) + ']'\n",
    "    print(\"OK\")"
   ]
  },
  {
   "cell_type": "code",
   "execution_count": 9,
   "id": "e929682f",
   "metadata": {},
   "outputs": [],
   "source": [
    "# Parse JSON string into pandas Dataframe\n",
    "df = pd.read_json(applicances_json_data)"
   ]
  },
  {
   "cell_type": "code",
   "execution_count": 10,
   "id": "387d57f6",
   "metadata": {},
   "outputs": [
    {
     "name": "stdout",
     "output_type": "stream",
     "text": [
      "FileDownloded\n"
     ]
    }
   ],
   "source": [
    "# Convert DataFrame to CSV\n",
    "df.to_csv('Applicances_Superset_data.csv', index=False)\n",
    "print(\"FileDownloded\")"
   ]
  }
 ],
 "metadata": {
  "kernelspec": {
   "display_name": "Python 3 (ipykernel)",
   "language": "python",
   "name": "python3"
  },
  "language_info": {
   "codemirror_mode": {
    "name": "ipython",
    "version": 3
   },
   "file_extension": ".py",
   "mimetype": "text/x-python",
   "name": "python",
   "nbconvert_exporter": "python",
   "pygments_lexer": "ipython3",
   "version": "3.11.5"
  }
 },
 "nbformat": 4,
 "nbformat_minor": 5
}
